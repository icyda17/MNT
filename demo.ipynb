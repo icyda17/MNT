{
 "cells": [
  {
   "cell_type": "code",
   "execution_count": 1,
   "source": [
    "from model.predictor import Predictor\r\n",
    "import torch\r\n",
    "\r\n",
    "device = torch.device('cuda' if torch.cuda.is_available() else 'cpu')\r\n",
    "predict = Predictor(device)"
   ],
   "outputs": [
    {
     "output_type": "stream",
     "name": "stdout",
     "text": [
      "[!] Instantiating models...\n",
      "Seq2Seq(\n",
      "  (encoder): Encoder(\n",
      "    (embed): Embedding(20004, 128)\n",
      "    (gru): GRU(128, 512, num_layers=2, dropout=0.5, bidirectional=True)\n",
      "  )\n",
      "  (decoder): Decoder(\n",
      "    (embed): Embedding(20004, 128)\n",
      "    (dropout): Dropout(p=0.5, inplace=True)\n",
      "    (attention): Attention(\n",
      "      (attn): Linear(in_features=1024, out_features=512, bias=True)\n",
      "    )\n",
      "    (gru): GRU(640, 512)\n",
      "    (out): Linear(in_features=1024, out_features=20004, bias=True)\n",
      "  )\n",
      ")\n",
      "Load model!\n"
     ]
    }
   ],
   "metadata": {}
  },
  {
   "cell_type": "code",
   "execution_count": 2,
   "source": [
    "text = ['Hi Jason, Sorry to bother you. I have a question for you.',\r\n",
    "'OK, what’s up?',\r\n",
    "'I’ve been having a problem with my computer. I know you’re an engineer so I thought you might be able to help me.'\r\n",
    "'I see. What’s the problem?',\r\n",
    "'I have a file that I can’t open for some reason.',\r\n",
    "'What type of file is it?',\r\n",
    "'It’s a Word document I’ve been working on. I need to finish it by tomorrow.',\r\n",
    "'Were you able to open it before, on the computer you’re using now?',\r\n",
    "'Yes, I was working on it last night and everything was fine, but this morning I couldn’t open the file.',\r\n",
    "'Do you think your computer might have a virus?',\r\n",
    "'No, I checked and there weren’t any.',\r\n",
    "'OK. I’m not sure what’s wrong. If it’s possible, email the file to me and I’ll see if I can get it to open.',\r\n",
    "'OK, I’ll do that when I get home. Are you going to be around tonight?',\r\n",
    "'Yeah, I’ll be home after 8 PM. Send it to me when you get a chance and I’ll call you later.',]\r\n",
    "for i in text:\r\n",
    "    print(i)\r\n",
    "    print('BS:',predict.predict(i))\r\n",
    "    print('GS:',predict.predict(i, method='greedy'))"
   ],
   "outputs": [
    {
     "output_type": "stream",
     "name": "stdout",
     "text": [
      "Hi Jason, Sorry to bother you. I have a question for you.\n",
      "BS: Xin chào : Xin lỗi Xin lỗi . Tôi có một câu hỏi cho bạn .\n",
      "GS: Xin chào , Xin lỗi đến anh . Tôi có một câu hỏi cho .\n",
      "OK, what’s up?\n",
      "BS: OK , điều gì ?\n",
      "GS: OK , những gì ? ?\n",
      "I’ve been having a problem with my computer. I know you’re an engineer so I thought you might be able to help me.I see. What’s the problem?\n",
      "BS: Tôi đã từng một vấn đề với với máy tính máy tính máy tính . Tôi biết bạn bạn có thể bạn\n",
      "GS: Tôi đã gặp vấn đề vấn đề với một máy tính máy tính . Tôi biết bạn bạn một bạn nên một người để tôi nghĩ rằng có thể có thể giúp tôi . Tôi sẽ hiểu . vấn đề gì ?\n",
      "I have a file that I can’t open for some reason.\n",
      "BS: Tôi có một bộ sưu tập mà tôi đã mở <unk> cho cho một số lý do .\n",
      "GS: Tôi có một một file mà tôi <unk> <unk> cho cho một số .\n",
      "What type of file is it?\n",
      "BS: Loại nào đó là gì ?\n",
      "GS: Công thức loại gì là gì ?\n",
      "It’s a Word document I’ve been working on. I need to finish it by tomorrow.\n",
      "BS: Nó đã một một cái <unk> tôi đang làm việc . Tôi làm việc hoàn thành . Tôi cần hoàn thành nó bằng cách .\n",
      "GS: Nó làm một một <unk> <unk> tôi đã làm việc . Tôi . hoàn thành hoàn thành . Tôi hoàn thành hoàn thành nó .\n",
      "Were you able to open it before, on the computer you’re using now?\n",
      "BS: Bạn bạn có thể mở nó nó trước đây , trên máy tính chiếc máy tính bạn không sử dụng sử dụng ?\n",
      "GS: Liệu bạn có thể mở trước trước , bạn máy tính máy tính sử dụng bây giờ ?\n",
      "Yes, I was working on it last night and everything was fine, but this morning I couldn’t open the file.\n",
      "BS: Vâng , tôi đã làm việc vào đêm và và mọi mọi thứ đó\n",
      "GS: Vâng , tôi đang làm việc trên đêm và đêm mọi thứ , nhưng tôi nay , tôi đã tôi có thể mở ra những .\n",
      "Do you think your computer might have a virus?\n",
      "BS: Bạn có nghĩ có máy tính có thể không vi rút ?\n",
      "GS: Bạn có nghĩ có thể có một vi rút vi rút không ?\n",
      "No, I checked and there weren’t any.\n",
      "BS: Không , tôi , và tôi có được .\n",
      "GS: Không , tôi đã được và và có .\n",
      "OK. I’m not sure what’s wrong. If it’s possible, email the file to me and I’ll see if I can get it to open.\n",
      "BS: OK . Tôi không chắc chắc những người sai sai . Nếu nó sẽ xảy ra , , email của tôi , và và\n",
      "GS: OK . Tôi không chắc chắc không sai gì . Nếu nó <unk> , , email , và tôi tôi tôi sẽ thấy được nó .\n",
      "OK, I’ll do that when I get home. Are you going to be around tonight?\n",
      "BS: OK , tôi cũng làm làm điều đó khi tôi nhà nhà .\n",
      "GS: OK , tôi làm làm điều đó khi khi về nhà . Bạn sẽ phải là tối ?\n",
      "Yeah, I’ll be home after 8 PM. Send it to me when you get a chance and I’ll call you later.\n",
      "BS: Vâng , tôi cũng là nhà nhà sau num_ num_ . Tôi nhớ khi tôi khi bạn có cơ hội cơ hội và tôi gọi <unk> .\n",
      "GS: Vâng , tôi được được <unk> sau khi num_ . . Tôi nói tôi khi bạn có cơ hội và tôi sẽ gọi gọi sau đó .\n"
     ]
    }
   ],
   "metadata": {}
  },
  {
   "cell_type": "code",
   "execution_count": 3,
   "source": [
    "text = ['Hi Jason, Sorry to bother you. I have a question for you.',\r\n",
    "'OK, what’s up?',\r\n",
    "'I’ve been having a problem with my computer. I know you’re an engineer so I thought you might be able to help me.'\r\n",
    "'I see. What’s the problem?',\r\n",
    "'I have a file that I can’t open for some reason.',\r\n",
    "'What type of file is it?',\r\n",
    "'It’s a Word document I’ve been working on. I need to finish it by tomorrow.',\r\n",
    "'Were you able to open it before, on the computer you’re using now?',\r\n",
    "'Yes, I was working on it last night and everything was fine, but this morning I couldn’t open the file.',\r\n",
    "'Do you think your computer might have a virus?',\r\n",
    "'No, I checked and there weren’t any.',\r\n",
    "'OK. I’m not sure what’s wrong. If it’s possible, email the file to me and I’ll see if I can get it to open.',\r\n",
    "'OK, I’ll do that when I get home. Are you going to be around tonight?',\r\n",
    "'Yeah, I’ll be home after 8 PM. Send it to me when you get a chance and I’ll call you later.',]\r\n",
    "for i in text:\r\n",
    "    print(i)\r\n",
    "    print('BS:',predict.predict(i))\r\n",
    "    print('GS:',predict.predict(i, method='greedy'))"
   ],
   "outputs": [
    {
     "output_type": "stream",
     "name": "stdout",
     "text": [
      "Hi Jason, Sorry to bother you. I have a question for you.\n",
      "BS: Xin chào : Xin lỗi đến . Tôi có một câu hỏi cho bạn .\n",
      "GS: Xin , , , anh . Tôi có một câu hỏi cho bạn .\n",
      "OK, what’s up?\n",
      "BS: OK , sao ? gì ? ?\n",
      "GS: Được , gì gì ?\n",
      "I’ve been having a problem with my computer. I know you’re an engineer so I thought you might be able to help me.I see. What’s the problem?\n",
      "BS: Tôi đã có một vấn đề với máy tính với máy tính . Tôi biết bạn đã bạn một\n",
      "GS: Tôi đã đã một một vấn đề với với máy tính máy tính . Tôi biết bạn bạn bạn bạn bạn một người bạn nên tôi có thể nghĩ có thể có thể giúp tôi . . Tôi gì ? vấn đề gì ?\n",
      "I have a file that I can’t open for some reason.\n",
      "BS: Tôi có một tệp mà tôi đã mở ra cho cho một số một vài .\n",
      "GS: Tôi có một một mà tôi đã mở cho cho cho một vài lý do .\n",
      "What type of file is it?\n",
      "BS: Loại gì nào là gì ?\n",
      "GS: Loại gì là gì ?\n",
      "It’s a Word document I’ve been working on. I need to finish it by tomorrow.\n",
      "BS: Nó đã một một <unk> mà tôi đang làm việc . Tôi cần hoàn thành hoàn thành nó .\n",
      "GS: Nó là một một <unk> mà tôi đang làm việc . Tôi . Tôi cần hoàn thành hoàn thành .\n",
      "Were you able to open it before, on the computer you’re using now?\n",
      "BS: Bạn bạn có thể mở trước trước đây , chiếc máy tính máy tính sử dụng bây giờ ?\n",
      "GS: Bạn có thể mở trước trước , , máy tính máy tính máy tính máy tính bây giờ ?\n",
      "Yes, I was working on it last night and everything was fine, but this morning I couldn’t open the file.\n",
      "BS: Vâng , tôi đang làm việc vào đêm đêm và và mọi thứ đó\n",
      "GS: Vâng , tôi đã làm việc trên đêm và đêm và mọi thứ gì , nhưng tôi nay tôi tôi có thể mở ra .\n",
      "Do you think your computer might have a virus?\n",
      "BS: Bạn có nghĩ bạn có thể có một vi rút không ?\n",
      "GS: Bạn có nghĩ có một chiếc vi rút không ?\n",
      "No, I checked and there weren’t any.\n",
      "BS: Không , tôi , và và không có .\n",
      "GS: Không , tôi đã và và và không có .\n",
      "OK. I’m not sure what’s wrong. If it’s possible, email the file to me and I’ll see if I can get it to open.\n",
      "BS: OK . Tôi không chắc chắc chuyện gì gì ,\n",
      "GS: OK . Tôi không chắc chắc không sai . Nếu Nếu <unk> , , email , và tôi tôi tôi tôi và tôi tôi có thể tôi có thể nó nó .\n",
      "OK, I’ll do that when I get home. Are you going to be around tonight?\n",
      "BS: OK , tôi đã làm làm khi khi về nhà . Bạn có phải tối quanh tối ?\n",
      "GS: OK , tôi đã làm làm điều khi khi nhà . Bạn sẽ có tối tối tối ?\n",
      "Yeah, I’ll be home after 8 PM. Send it to me when you get a chance and I’ll call you later.\n",
      "BS: Vâng , tôi được được về nhà sau num_ num_ . Tôi nói với tôi khi khi bạn có cơ hội cơ hội và tôi gọi gọi các bạn .\n",
      "GS: Vâng , tôi đã được nhà sau sau num_ . num_ khi tôi khi tôi khi bạn có cơ hội cơ hội và tôi gọi tôi gọi gọi .\n"
     ]
    }
   ],
   "metadata": {}
  },
  {
   "cell_type": "code",
   "execution_count": null,
   "source": [],
   "outputs": [],
   "metadata": {}
  }
 ],
 "metadata": {
  "orig_nbformat": 4,
  "language_info": {
   "name": "python",
   "version": "3.6.13",
   "mimetype": "text/x-python",
   "codemirror_mode": {
    "name": "ipython",
    "version": 3
   },
   "pygments_lexer": "ipython3",
   "nbconvert_exporter": "python",
   "file_extension": ".py"
  },
  "kernelspec": {
   "name": "python3",
   "display_name": "Python 3.6.13 64-bit ('mnt': conda)"
  },
  "interpreter": {
   "hash": "806bbd42b85ea1da985c6f2da0d5f3a6bb07745308f5c9ff37e6b4e0b5d8b43a"
  }
 },
 "nbformat": 4,
 "nbformat_minor": 2
}