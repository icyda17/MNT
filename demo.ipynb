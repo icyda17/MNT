{
 "cells": [
  {
   "cell_type": "code",
   "execution_count": 1,
   "source": [
    "from model.predictor import Predictor\r\n",
    "import torch\r\n",
    "\r\n",
    "device = torch.device('cuda' if torch.cuda.is_available() else 'cpu')\r\n",
    "predict = Predictor(device)"
   ],
   "outputs": [
    {
     "output_type": "stream",
     "name": "stdout",
     "text": [
      "[!] Instantiating models...\n",
      "Seq2Seq(\n",
      "  (encoder): Encoder(\n",
      "    (embed): Embedding(20004, 128)\n",
      "    (gru): GRU(128, 512, num_layers=2, dropout=0.5, bidirectional=True)\n",
      "  )\n",
      "  (decoder): Decoder(\n",
      "    (embed): Embedding(20004, 128)\n",
      "    (dropout): Dropout(p=0.5, inplace=True)\n",
      "    (attention): Attention(\n",
      "      (attn): Linear(in_features=1024, out_features=512, bias=True)\n",
      "    )\n",
      "    (gru): GRU(640, 512)\n",
      "    (out): Linear(in_features=1024, out_features=20004, bias=True)\n",
      "  )\n",
      ")\n",
      "Load model!\n"
     ]
    }
   ],
   "metadata": {}
  },
  {
   "cell_type": "code",
   "execution_count": 2,
   "source": [
    "text = ['Hi Jason, Sorry to bother you. I have a question for you.',\r\n",
    "'OK, what’s up?',\r\n",
    "'I’ve been having a problem with my computer. I know you’re an engineer so I thought you might be able to help me.'\r\n",
    "'I see. What’s the problem?',\r\n",
    "'I have a file that I can’t open for some reason.',\r\n",
    "'What type of file is it?',\r\n",
    "'It’s a Word document I’ve been working on. I need to finish it by tomorrow.',\r\n",
    "'Were you able to open it before, on the computer you’re using now?',\r\n",
    "'Yes, I was working on it last night and everything was fine, but this morning I couldn’t open the file.',\r\n",
    "'Do you think your computer might have a virus?',\r\n",
    "'No, I checked and there weren’t any.',\r\n",
    "'OK. I’m not sure what’s wrong. If it’s possible, email the file to me and I’ll see if I can get it to open.',\r\n",
    "'OK, I’ll do that when I get home. Are you going to be around tonight?',\r\n",
    "'Yeah, I’ll be home after 8 PM. Send it to me when you get a chance and I’ll call you later.',]\r\n",
    "for i in text:\r\n",
    "    print(i)\r\n",
    "    print('BS:',predict.predict(i))\r\n",
    "    print('GS:',predict.predict(i, method='greedy'))"
   ],
   "outputs": [
    {
     "output_type": "stream",
     "name": "stdout",
     "text": [
      "Hi Jason, Sorry to bother you. I have a question for you.\n",
      "BS: Xin chào , Xin lỗi xin lỗi . Tôi có một câu hỏi cho bạn .\n",
      "GS: Xin chào , Xin lỗi . Xin chào . Tôi có một câu hỏi cho bạn .\n",
      "OK, what’s up?\n",
      "BS: OK , cái gì ?\n",
      "GS: OK , cái gì ?\n",
      "I’ve been having a problem with my computer. I know you’re an engineer so I thought you might be able to help me.I see. What’s the problem?\n",
      "BS: Tôi đã từng một vấn đề với máy tính máy tính máy tính . Tôi biết bạn biết một\n",
      "GS: Tôi đã từng một vấn đề với với máy tính máy tính . Tôi biết bạn bạn bạn bạn một người bạn có thể nghĩ tôi có thể có thể giúp tôi . Tôi . Tôi hiểu . vấn đề gì ? vấn đề gì ?\n",
      "I have a file that I can’t open for some reason.\n",
      "BS: Tôi có một tệp mà tôi mở <unk> mở cho cho một số lý do .\n",
      "GS: Tôi có một một mà tôi <unk> <unk> cho cho một số lý do .\n",
      "What type of file is it?\n",
      "BS: Loại loại gì là gì ?\n",
      "GS: Loại loại gì là gì ?\n",
      "It’s a Word document I’ve been working on. I need to finish it by tomorrow.\n",
      "BS: Nó đã một một <unk> mà tôi đang làm việc . Tôi cần hoàn thành hoàn thành nó .\n",
      "GS: Nó đã một một <unk> mà tôi đang làm việc . Tôi cần hoàn thành hoàn thành nó .\n",
      "Were you able to open it before, on the computer you’re using now?\n",
      "BS: Bạn có thể mở trước nó trước đây , máy tính máy tính máy tính bạn sử dụng sử dụng bây giờ ?\n",
      "GS: Bạn có thể mở trước trước , , máy tính máy tính máy tính máy tính sử dụng bây giờ ?\n",
      "Yes, I was working on it last night and everything was fine, but this morning I couldn’t open the file.\n",
      "BS: Vâng , tôi đang làm việc về đêm và đêm mọi thứ đều ổn , nhưng giờ sáng nay tôi tôi có thể\n",
      "GS: Vâng , tôi đang làm việc vào đêm và đêm mọi thứ , nhưng tôi nay nay tôi tôi có thể mở ra những chiếc đồ chơi .\n",
      "Do you think your computer might have a virus?\n",
      "BS: Bạn có nghĩ máy tính có thể có một vi rút không ?\n",
      "GS: Bạn có nghĩ máy tính có thể có một vi rút không ?\n",
      "No, I checked and there weren’t any.\n",
      "BS: Không , tôi đã và và có <unk> .\n",
      "GS: Không , tôi đã và và có có bất kì .\n",
      "OK. I’m not sure what’s wrong. If it’s possible, email the file to me and I’ll see if I can get it to open.\n",
      "BS: OK . Tôi không chắc chắc những gì sai sai Nếu Nếu <unk>\n",
      "GS: OK . Tôi không chắc chắc không sai . Nếu nó <unk> , , email , và tôi tôi tôi tôi có thể xem được nếu tôi có thể có thể nó nó .\n",
      "OK, I’ll do that when I get home. Are you going to be around tonight?\n",
      "BS: OK , tôi đã làm điều đó khi khi tôi nhà .\n",
      "GS: OK , tôi làm làm điều đó khi khi nhà nhà . Bạn sẽ phải tối tối tối ?\n",
      "Yeah, I’ll be home after 8 PM. Send it to me when you get a chance and I’ll call you later.\n",
      "BS: Vâng , tôi đã là nhà nhà sau sau num_ . Tôi nói với tôi khi bạn có cơ hội cơ hội và tôi gọi gọi là các bạn .\n",
      "GS: Vâng , tôi đã được nhà nhà sau khi num_ . Tôi đã cho tôi khi bạn có cơ hội cơ hội và tôi gọi gọi là bạn .\n"
     ]
    }
   ],
   "metadata": {}
  },
  {
   "cell_type": "code",
   "execution_count": 3,
   "source": [
    "text = ['Hi Jason, Sorry to bother you. I have a question for you.',\r\n",
    "'OK, what’s up?',\r\n",
    "'I’ve been having a problem with my computer. I know you’re an engineer so I thought you might be able to help me.'\r\n",
    "'I see. What’s the problem?',\r\n",
    "'I have a file that I can’t open for some reason.',\r\n",
    "'What type of file is it?',\r\n",
    "'It’s a Word document I’ve been working on. I need to finish it by tomorrow.',\r\n",
    "'Were you able to open it before, on the computer you’re using now?',\r\n",
    "'Yes, I was working on it last night and everything was fine, but this morning I couldn’t open the file.',\r\n",
    "'Do you think your computer might have a virus?',\r\n",
    "'No, I checked and there weren’t any.',\r\n",
    "'OK. I’m not sure what’s wrong. If it’s possible, email the file to me and I’ll see if I can get it to open.',\r\n",
    "'OK, I’ll do that when I get home. Are you going to be around tonight?',\r\n",
    "'Yeah, I’ll be home after 8 PM. Send it to me when you get a chance and I’ll call you later.',]\r\n",
    "for i in text:\r\n",
    "    print(i)\r\n",
    "    print('BS:',predict.predict(i))\r\n",
    "    print('GS:',predict.predict(i, method='greedy'))"
   ],
   "outputs": [
    {
     "output_type": "stream",
     "name": "stdout",
     "text": [
      "Hi Jason, Sorry to bother you. I have a question for you.\n",
      "BS: Xin chào , Xin lỗi xin lỗi . Tôi có một câu hỏi cho bạn .\n",
      "GS: Xin chào , Xin lỗi . Xin chào . Tôi có một câu hỏi cho bạn .\n",
      "OK, what’s up?\n",
      "BS: OK , cái gì ?\n",
      "GS: OK , cái gì ?\n",
      "I’ve been having a problem with my computer. I know you’re an engineer so I thought you might be able to help me.I see. What’s the problem?\n",
      "BS: Tôi đã từng một vấn đề với máy tính máy tính máy tính . Tôi biết bạn biết một\n",
      "GS: Tôi đã từng một vấn đề với với máy tính máy tính . Tôi biết bạn bạn bạn bạn một người bạn có thể nghĩ tôi có thể có thể giúp tôi . Tôi . Tôi hiểu . vấn đề gì ? vấn đề gì ?\n",
      "I have a file that I can’t open for some reason.\n",
      "BS: Tôi có một tệp mà tôi mở <unk> mở cho cho một số lý do .\n",
      "GS: Tôi có một một mà tôi <unk> <unk> cho cho một số lý do .\n",
      "What type of file is it?\n",
      "BS: Loại loại gì là gì ?\n",
      "GS: Loại loại gì là gì ?\n",
      "It’s a Word document I’ve been working on. I need to finish it by tomorrow.\n",
      "BS: Nó đã một một <unk> mà tôi đang làm việc . Tôi cần hoàn thành hoàn thành nó .\n",
      "GS: Nó đã một một <unk> mà tôi đang làm việc . Tôi cần hoàn thành hoàn thành nó .\n",
      "Were you able to open it before, on the computer you’re using now?\n",
      "BS: Bạn có thể mở trước nó trước đây , máy tính máy tính máy tính bạn sử dụng sử dụng bây giờ ?\n",
      "GS: Bạn có thể mở trước trước , , máy tính máy tính máy tính máy tính sử dụng bây giờ ?\n",
      "Yes, I was working on it last night and everything was fine, but this morning I couldn’t open the file.\n",
      "BS: Vâng , tôi đang làm việc về đêm và đêm mọi thứ đều ổn , nhưng giờ sáng nay tôi tôi có thể\n",
      "GS: Vâng , tôi đang làm việc vào đêm và đêm mọi thứ , nhưng tôi nay nay tôi tôi có thể mở ra những chiếc đồ chơi .\n",
      "Do you think your computer might have a virus?\n",
      "BS: Bạn có nghĩ máy tính có thể có một vi rút không ?\n",
      "GS: Bạn có nghĩ máy tính có thể có một vi rút không ?\n",
      "No, I checked and there weren’t any.\n",
      "BS: Không , tôi đã và và có <unk> .\n",
      "GS: Không , tôi đã và và có có bất kì .\n",
      "OK. I’m not sure what’s wrong. If it’s possible, email the file to me and I’ll see if I can get it to open.\n",
      "BS: OK . Tôi không chắc chắc những gì sai sai Nếu Nếu <unk>\n",
      "GS: OK . Tôi không chắc chắc không sai . Nếu nó <unk> , , email , và tôi tôi tôi tôi có thể xem được nếu tôi có thể có thể nó nó .\n",
      "OK, I’ll do that when I get home. Are you going to be around tonight?\n",
      "BS: OK , tôi đã làm điều đó khi khi tôi nhà .\n",
      "GS: OK , tôi làm làm điều đó khi khi nhà nhà . Bạn sẽ phải tối tối tối ?\n",
      "Yeah, I’ll be home after 8 PM. Send it to me when you get a chance and I’ll call you later.\n",
      "BS: Vâng , tôi đã là nhà nhà sau sau num_ . Tôi nói với tôi khi bạn có cơ hội cơ hội và tôi gọi gọi là các bạn .\n",
      "GS: Vâng , tôi đã được nhà nhà sau khi num_ . Tôi đã cho tôi khi bạn có cơ hội cơ hội và tôi gọi gọi là bạn .\n"
     ]
    }
   ],
   "metadata": {}
  },
  {
   "cell_type": "code",
   "execution_count": 14,
   "source": [
    "i = 'Well , coming out of the research labs just now , for our generation , is the possibility to do that .'\r\n",
    "print('BS:',predict.predict(i))\r\n",
    "print('GS:',predict.predict(i, method='greedy'))"
   ],
   "outputs": [
    {
     "output_type": "stream",
     "name": "stdout",
     "text": [
      "BS: Vâng , đã ra khỏi nghiên cứu nghiên cứu chỉ cho thế hệ thế hệ của chúng ta , đó là khả năng để làm điều đó .\n",
      "GS: Vâng , , trong phòng thí nghiệm nghiên cứu nghiên cứu chỉ là thế hệ , thế hệ của chúng tôi , là khả năng để làm điều đó .\n"
     ]
    }
   ],
   "metadata": {}
  },
  {
   "cell_type": "code",
   "execution_count": null,
   "source": [],
   "outputs": [],
   "metadata": {}
  }
 ],
 "metadata": {
  "orig_nbformat": 4,
  "language_info": {
   "name": "python",
   "version": "3.6.13",
   "mimetype": "text/x-python",
   "codemirror_mode": {
    "name": "ipython",
    "version": 3
   },
   "pygments_lexer": "ipython3",
   "nbconvert_exporter": "python",
   "file_extension": ".py"
  },
  "kernelspec": {
   "name": "python3",
   "display_name": "Python 3.6.13 64-bit ('mnt': conda)"
  },
  "interpreter": {
   "hash": "806bbd42b85ea1da985c6f2da0d5f3a6bb07745308f5c9ff37e6b4e0b5d8b43a"
  }
 },
 "nbformat": 4,
 "nbformat_minor": 2
}